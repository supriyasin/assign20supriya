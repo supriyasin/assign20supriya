{
 "cells": [
  {
   "cell_type": "code",
   "execution_count": null,
   "id": "6bdf535a",
   "metadata": {},
   "outputs": [],
   "source": [
    "#1.How many seconds are in an hour? Use the interactive interpreter as a calculator and multiply the\n",
    "number of seconds in a minute (60) by the number of minutes in an hour (also 60).\n",
    "sol. 60\n",
    "\n",
    "\"\"\"60*60\n",
    "  = 3600\"\"\"\n",
    "\n",
    "#2. Assign the result from the previous task (seconds in an hour) to a variable called\n",
    "seconds_per_hour.\n",
    "\n",
    "\"\"\"second_per_hour = 3600\"\"\"\n",
    "\n",
    "#3. How many seconds do you think there are in a day? Make use of the variables seconds per hour\n",
    "and minutes per hour.\n",
    "\n",
    "\"\"\"second_per_hour * 24\n",
    "   = 86400\"\"\"\n",
    "\n",
    "#4. Calculate seconds per day again, but this time save the result in a variable called seconds_per_day\n",
    "\n",
    "\"\"\"second_per_day = second_per_hour * 24\n",
    "   second_per_day\n",
    "   = 86400\"\"\"\n",
    "\n",
    "#5. Divide seconds_per_day by seconds_per_hour. Use floating-point (/) division.\n",
    "\n",
    "\"\"\"second_per_day / second_per_hour \n",
    "    = 24.0\"\"\"\n",
    "\n",
    "#6. Divide seconds_per_day by seconds_per_hour, using integer (//) division. Did this number agree\n",
    "with the floating-point value from the previous question, aside from the final .0?\n",
    "\n",
    "\"\"\"Yes, agree\n",
    "    second_per_day / second_per_hour\n",
    "    = 24\"\"\"\n",
    "\n",
    "#7. Write a generator, genPrimes, that returns the sequence of prime numbers on successive calls to\n",
    "its next() method: 2, 3, 5, 7, 11, ...\n",
    "    \n",
    "\"\"\"None\n",
    "      def genPrimes():\n",
    "          primes = [2]\n",
    "          yield primes[0]\n",
    "          guess = 3\n",
    "          while True:\n",
    "              if all(guess%x !=0 for x in primes):\n",
    "                   primes.appened(guess)\n",
    "              if guess == primes[-1]:\n",
    "                  yeild primes[-1]\n",
    "              guess += 2\"\"\""
   ]
  }
 ],
 "metadata": {
  "kernelspec": {
   "display_name": "Python 3 (ipykernel)",
   "language": "python",
   "name": "python3"
  },
  "language_info": {
   "codemirror_mode": {
    "name": "ipython",
    "version": 3
   },
   "file_extension": ".py",
   "mimetype": "text/x-python",
   "name": "python",
   "nbconvert_exporter": "python",
   "pygments_lexer": "ipython3",
   "version": "3.9.12"
  }
 },
 "nbformat": 4,
 "nbformat_minor": 5
}
